{
 "cells": [
  {
   "cell_type": "code",
   "execution_count": 1,
   "metadata": {
    "collapsed": false
   },
   "outputs": [],
   "source": [
    "import pandas as pd\n",
    "import numpy as np\n",
    "import matplotlib.pyplot as plt"
   ]
  },
  {
   "cell_type": "code",
   "execution_count": 4,
   "metadata": {
    "collapsed": false
   },
   "outputs": [
    {
     "data": {
      "text/plain": [
       "0    1.0\n",
       "1    3.0\n",
       "2    5.0\n",
       "3    NaN\n",
       "4    6.0\n",
       "5    8.0\n",
       "dtype: float64"
      ]
     },
     "execution_count": 4,
     "metadata": {},
     "output_type": "execute_result"
    }
   ],
   "source": [
    "s = pd.Series([1,3,5,np.nan,6,8])\n",
    "s"
   ]
  },
  {
   "cell_type": "code",
   "execution_count": 5,
   "metadata": {
    "collapsed": true
   },
   "outputs": [],
   "source": [
    "pd.Series?"
   ]
  },
  {
   "cell_type": "markdown",
   "metadata": {},
   "source": [
    "Series 是一种类似于一维数组的对象，他由一维数组（Numpy数据类型）以及相关的数据标签组成\n",
    "```\n",
    "pd.Series(self, data=None, index=None, dtype=None, name=None, copy=False, fastpath=False)\n",
    "Parameters\n",
    "----------\n",
    "data : array-like, dict, or scalar value\n",
    "    Contains data stored in Series\n",
    "index : array-like or Index (1d)\n",
    "    Values must be unique and hashable, same length as data. Index\n",
    "    object (or other iterable of same length as data) Will default to\n",
    "    RangeIndex(len(data)) if not provided. If both a dict and index\n",
    "    sequence are used, the index will override the keys found in the\n",
    "    dict.\n",
    "dtype : numpy.dtype or None\n",
    "    If None, dtype will be inferred\n",
    "copy : boolean, default False\n",
    "    Copy input data\n",
    "```"
   ]
  },
  {
   "cell_type": "code",
   "execution_count": 6,
   "metadata": {
    "collapsed": false
   },
   "outputs": [
    {
     "data": {
      "text/plain": [
       "array([  1.,   3.,   5.,  nan,   6.,   8.])"
      ]
     },
     "execution_count": 6,
     "metadata": {},
     "output_type": "execute_result"
    }
   ],
   "source": [
    "s.values"
   ]
  },
  {
   "cell_type": "code",
   "execution_count": 7,
   "metadata": {
    "collapsed": false
   },
   "outputs": [
    {
     "data": {
      "text/plain": [
       "RangeIndex(start=0, stop=6, step=1)"
      ]
     },
     "execution_count": 7,
     "metadata": {},
     "output_type": "execute_result"
    }
   ],
   "source": [
    "s.index"
   ]
  },
  {
   "cell_type": "code",
   "execution_count": 8,
   "metadata": {
    "collapsed": false
   },
   "outputs": [
    {
     "data": {
      "text/plain": [
       "v    1\n",
       "d    3\n",
       "f    5\n",
       "g    8\n",
       "dtype: int64"
      ]
     },
     "execution_count": 8,
     "metadata": {},
     "output_type": "execute_result"
    }
   ],
   "source": [
    "s = pd.Series([1,3,5,8],index = ['v','d','f','g'])\n",
    "s"
   ]
  },
  {
   "cell_type": "markdown",
   "metadata": {},
   "source": [
    "## 与Numpy相比，可以用索引得到Series的一个或者一组数据"
   ]
  },
  {
   "cell_type": "code",
   "execution_count": 10,
   "metadata": {
    "collapsed": false
   },
   "outputs": [
    {
     "name": "stdout",
     "output_type": "stream",
     "text": [
      "3\n",
      "g    8\n",
      "d    3\n",
      "dtype: int64\n"
     ]
    }
   ],
   "source": [
    "print(s['d'])\n",
    "print(s[['g','d']])"
   ]
  },
  {
   "cell_type": "markdown",
   "metadata": {},
   "source": [
    "## 可以进行NumPy数组运算，而且会保留索引与值之间的链接。"
   ]
  },
  {
   "cell_type": "code",
   "execution_count": 11,
   "metadata": {
    "collapsed": false
   },
   "outputs": [
    {
     "data": {
      "text/plain": [
       "f    5\n",
       "g    8\n",
       "dtype: int64"
      ]
     },
     "execution_count": 11,
     "metadata": {},
     "output_type": "execute_result"
    }
   ],
   "source": [
    "s[s>3]"
   ]
  },
  {
   "cell_type": "code",
   "execution_count": 12,
   "metadata": {
    "collapsed": false
   },
   "outputs": [
    {
     "data": {
      "text/plain": [
       "v     2\n",
       "d     6\n",
       "f    10\n",
       "g    16\n",
       "dtype: int64"
      ]
     },
     "execution_count": 12,
     "metadata": {},
     "output_type": "execute_result"
    }
   ],
   "source": [
    "s*2"
   ]
  },
  {
   "cell_type": "markdown",
   "metadata": {},
   "source": [
    "## 可以将Series看成定长的有序字典，它的索引值是一个映射。它可以用在原本需要字典参数的函数中 "
   ]
  },
  {
   "cell_type": "code",
   "execution_count": 13,
   "metadata": {
    "collapsed": false
   },
   "outputs": [
    {
     "data": {
      "text/plain": [
       "True"
      ]
     },
     "execution_count": 13,
     "metadata": {},
     "output_type": "execute_result"
    }
   ],
   "source": [
    "'g' in s"
   ]
  },
  {
   "cell_type": "markdown",
   "metadata": {},
   "source": [
    "##  可以用字典来创建Series\n",
    "\n",
    "s = Series（dic）"
   ]
  },
  {
   "cell_type": "markdown",
   "metadata": {},
   "source": [
    "## pandas 中的isnull 和notnull可以判断缺失数据"
   ]
  },
  {
   "cell_type": "code",
   "execution_count": 19,
   "metadata": {
    "collapsed": false
   },
   "outputs": [
    {
     "name": "stdout",
     "output_type": "stream",
     "text": [
      "d    2\n",
      "f    2\n",
      "g    3\n",
      "v    1\n",
      "dtype: int64\n",
      "v    1.0\n",
      "d    2.0\n",
      "f    2.0\n",
      "e    NaN\n",
      "dtype: float64\n"
     ]
    },
    {
     "data": {
      "text/plain": [
       "v    False\n",
       "d    False\n",
       "f    False\n",
       "e     True\n",
       "dtype: bool"
      ]
     },
     "execution_count": 19,
     "metadata": {},
     "output_type": "execute_result"
    }
   ],
   "source": [
    "dic = ['v','d','f','e']\n",
    "sdata = {'v':1,'d':2,'f':2,\"g\":3}\n",
    "obj1 = pd.Series(sdata)\n",
    "print obj1\n",
    "obj = pd.Series(sdata,dic)\n",
    "print obj\n",
    "pd.isnull(obj)"
   ]
  },
  {
   "cell_type": "markdown",
   "metadata": {},
   "source": [
    "## Series 有一个重要的功能：在算术运算中会自动对齐不同索引的数据。 "
   ]
  },
  {
   "cell_type": "code",
   "execution_count": 20,
   "metadata": {
    "collapsed": false
   },
   "outputs": [
    {
     "data": {
      "text/plain": [
       "d    4.0\n",
       "e    NaN\n",
       "f    4.0\n",
       "g    NaN\n",
       "v    2.0\n",
       "dtype: float64"
      ]
     },
     "execution_count": 20,
     "metadata": {},
     "output_type": "execute_result"
    }
   ],
   "source": [
    "obj1 + obj"
   ]
  },
  {
   "cell_type": "markdown",
   "metadata": {},
   "source": [
    "## Series 对象本身以及索引都有一个name的属性，该属性和pandas的其他功能非常密切。 "
   ]
  },
  {
   "cell_type": "code",
   "execution_count": 21,
   "metadata": {
    "collapsed": false
   },
   "outputs": [
    {
     "data": {
      "text/plain": [
       "index\n",
       "d    2\n",
       "f    2\n",
       "g    3\n",
       "v    1\n",
       "Name: dic, dtype: int64"
      ]
     },
     "execution_count": 21,
     "metadata": {},
     "output_type": "execute_result"
    }
   ],
   "source": [
    "obj1.name = 'dic'\n",
    "obj1.index.name = 'index'\n",
    "obj1"
   ]
  },
  {
   "cell_type": "markdown",
   "metadata": {},
   "source": [
    "## Series 可以用个赋值方式进行修改"
   ]
  },
  {
   "cell_type": "code",
   "execution_count": 22,
   "metadata": {
    "collapsed": false
   },
   "outputs": [
    {
     "data": {
      "text/plain": [
       "a    2\n",
       "b    2\n",
       "c    3\n",
       "d    1\n",
       "Name: dic, dtype: int64"
      ]
     },
     "execution_count": 22,
     "metadata": {},
     "output_type": "execute_result"
    }
   ],
   "source": [
    "obj1.index = ['a','b','c','d']\n",
    "obj1"
   ]
  },
  {
   "cell_type": "markdown",
   "metadata": {},
   "source": [
    "# DataFrame"
   ]
  },
  {
   "cell_type": "markdown",
   "metadata": {},
   "source": [
    "DataFrame 是一种表格形式的数据结构，它含有一组有序的列，每列可以使不同的值类型。DataFrame由行索引和列索引。DataFrame中的数据是以一个或多个二维块存放的。\n",
    "创建方法： 可以传入**等长**列表或者Numpy数组组成的**字典**。\n",
    "**结果dataframe会自己加入行索引。**\n",
    "**也可以自己加入行序列（一个list）**"
   ]
  },
  {
   "cell_type": "code",
   "execution_count": 24,
   "metadata": {
    "collapsed": true
   },
   "outputs": [],
   "source": [
    "pd.DataFrame?"
   ]
  },
  {
   "cell_type": "markdown",
   "metadata": {},
   "source": [
    "```\n",
    "Init signature: pd.DataFrame(self, data=None, index=None, columns=None, dtype=None, copy=False)\n",
    "Docstring:     \n",
    "Two-dimensional size-mutable, potentially heterogeneous tabular data\n",
    "structure with labeled axes (rows and columns). Arithmetic operations\n",
    "align on both row and column labels. Can be thought of as a dict-like\n",
    "container for Series objects. The primary pandas data structure\n",
    "\n",
    "Parameters\n",
    "----------\n",
    "data : numpy ndarray (structured or homogeneous), dict, or DataFrame\n",
    "    Dict can contain Series, arrays, constants, or list-like objects\n",
    "index : Index or array-like\n",
    "    Index to use for resulting frame. Will default to np.arange(n) if\n",
    "    no indexing information part of input data and no index provided\n",
    "columns : Index or array-like\n",
    "    Column labels to use for resulting frame. Will default to\n",
    "    np.arange(n) if no column labels are provided\n",
    "dtype : dtype, default None\n",
    "    Data type to force, otherwise infer\n",
    "copy : boolean, default False\n",
    "    Copy data from inputs. Only affects DataFrame / 2d ndarray input\n",
    "Examples\n",
    "--------\n",
    ">>> d = {'col1': ts1, 'col2': ts2}\n",
    ">>> df = DataFrame(data=d, index=index)\n",
    ">>> df2 = DataFrame(np.random.randn(10, 5))\n",
    ">>> df3 = DataFrame(np.random.randn(10, 5),\n",
    "...                 columns=['a', 'b', 'c', 'd', 'e'])\n",
    "```"
   ]
  },
  {
   "cell_type": "markdown",
   "metadata": {},
   "source": [
    "## 和Series一样，找不到数据时候会产生NA值。\n",
    "\n",
    "## 可以用字典形式得到列的一个Series，而且索引值与DataFrame一样"
   ]
  },
  {
   "cell_type": "code",
   "execution_count": 27,
   "metadata": {
    "collapsed": false
   },
   "outputs": [
    {
     "data": {
      "text/html": [
       "<div>\n",
       "<table border=\"1\" class=\"dataframe\">\n",
       "  <thead>\n",
       "    <tr style=\"text-align: right;\">\n",
       "      <th></th>\n",
       "      <th>0</th>\n",
       "      <th>1</th>\n",
       "      <th>2</th>\n",
       "      <th>3</th>\n",
       "      <th>4</th>\n",
       "    </tr>\n",
       "  </thead>\n",
       "  <tbody>\n",
       "    <tr>\n",
       "      <th>0</th>\n",
       "      <td>0.044882</td>\n",
       "      <td>1.947019</td>\n",
       "      <td>0.167263</td>\n",
       "      <td>-0.645261</td>\n",
       "      <td>1.325821</td>\n",
       "    </tr>\n",
       "    <tr>\n",
       "      <th>1</th>\n",
       "      <td>-1.629131</td>\n",
       "      <td>0.762345</td>\n",
       "      <td>-0.412886</td>\n",
       "      <td>-0.813852</td>\n",
       "      <td>1.878055</td>\n",
       "    </tr>\n",
       "    <tr>\n",
       "      <th>2</th>\n",
       "      <td>-0.722374</td>\n",
       "      <td>0.197613</td>\n",
       "      <td>2.042455</td>\n",
       "      <td>0.093834</td>\n",
       "      <td>-0.837068</td>\n",
       "    </tr>\n",
       "    <tr>\n",
       "      <th>3</th>\n",
       "      <td>-0.938291</td>\n",
       "      <td>1.616222</td>\n",
       "      <td>-2.017747</td>\n",
       "      <td>0.353953</td>\n",
       "      <td>0.582901</td>\n",
       "    </tr>\n",
       "    <tr>\n",
       "      <th>4</th>\n",
       "      <td>-0.952369</td>\n",
       "      <td>-0.777576</td>\n",
       "      <td>0.042165</td>\n",
       "      <td>-1.369082</td>\n",
       "      <td>1.768860</td>\n",
       "    </tr>\n",
       "    <tr>\n",
       "      <th>5</th>\n",
       "      <td>-0.879009</td>\n",
       "      <td>0.320341</td>\n",
       "      <td>-0.761303</td>\n",
       "      <td>1.855261</td>\n",
       "      <td>-0.509548</td>\n",
       "    </tr>\n",
       "    <tr>\n",
       "      <th>6</th>\n",
       "      <td>1.170580</td>\n",
       "      <td>-0.581491</td>\n",
       "      <td>-0.115374</td>\n",
       "      <td>-0.321679</td>\n",
       "      <td>1.116840</td>\n",
       "    </tr>\n",
       "    <tr>\n",
       "      <th>7</th>\n",
       "      <td>-1.428550</td>\n",
       "      <td>-0.948327</td>\n",
       "      <td>0.849442</td>\n",
       "      <td>0.774132</td>\n",
       "      <td>-0.388989</td>\n",
       "    </tr>\n",
       "    <tr>\n",
       "      <th>8</th>\n",
       "      <td>-0.497311</td>\n",
       "      <td>-0.231180</td>\n",
       "      <td>-1.568490</td>\n",
       "      <td>0.431784</td>\n",
       "      <td>-0.047164</td>\n",
       "    </tr>\n",
       "    <tr>\n",
       "      <th>9</th>\n",
       "      <td>0.457726</td>\n",
       "      <td>0.598834</td>\n",
       "      <td>1.388310</td>\n",
       "      <td>0.333702</td>\n",
       "      <td>-1.770764</td>\n",
       "    </tr>\n",
       "  </tbody>\n",
       "</table>\n",
       "</div>"
      ],
      "text/plain": [
       "          0         1         2         3         4\n",
       "0  0.044882  1.947019  0.167263 -0.645261  1.325821\n",
       "1 -1.629131  0.762345 -0.412886 -0.813852  1.878055\n",
       "2 -0.722374  0.197613  2.042455  0.093834 -0.837068\n",
       "3 -0.938291  1.616222 -2.017747  0.353953  0.582901\n",
       "4 -0.952369 -0.777576  0.042165 -1.369082  1.768860\n",
       "5 -0.879009  0.320341 -0.761303  1.855261 -0.509548\n",
       "6  1.170580 -0.581491 -0.115374 -0.321679  1.116840\n",
       "7 -1.428550 -0.948327  0.849442  0.774132 -0.388989\n",
       "8 -0.497311 -0.231180 -1.568490  0.431784 -0.047164\n",
       "9  0.457726  0.598834  1.388310  0.333702 -1.770764"
      ]
     },
     "execution_count": 27,
     "metadata": {},
     "output_type": "execute_result"
    }
   ],
   "source": [
    "df2 = pd.DataFrame(np.random.randn(10, 5))\n",
    "df2"
   ]
  },
  {
   "cell_type": "code",
   "execution_count": 28,
   "metadata": {
    "collapsed": false
   },
   "outputs": [
    {
     "data": {
      "text/plain": [
       "0    0.044882\n",
       "1   -1.629131\n",
       "2   -0.722374\n",
       "3   -0.938291\n",
       "4   -0.952369\n",
       "5   -0.879009\n",
       "6    1.170580\n",
       "7   -1.428550\n",
       "8   -0.497311\n",
       "9    0.457726\n",
       "Name: 0, dtype: float64"
      ]
     },
     "execution_count": 28,
     "metadata": {},
     "output_type": "execute_result"
    }
   ],
   "source": [
    "df2[0]"
   ]
  },
  {
   "cell_type": "markdown",
   "metadata": {},
   "source": [
    "## 也可以得到对应的行，通过位置或者名称的方式进行获取，比如说用索引字段ix"
   ]
  },
  {
   "cell_type": "code",
   "execution_count": 29,
   "metadata": {
    "collapsed": false
   },
   "outputs": [
    {
     "data": {
      "text/plain": [
       "0   -1.629131\n",
       "1    0.762345\n",
       "2   -0.412886\n",
       "3   -0.813852\n",
       "4    1.878055\n",
       "Name: 1, dtype: float64"
      ]
     },
     "execution_count": 29,
     "metadata": {},
     "output_type": "execute_result"
    }
   ],
   "source": [
    "df2.ix[1]"
   ]
  },
  {
   "cell_type": "markdown",
   "metadata": {},
   "source": [
    "## 列也可以通过赋值的方式进行修改，比如说给一个空的列赋值 "
   ]
  },
  {
   "cell_type": "code",
   "execution_count": 30,
   "metadata": {
    "collapsed": false
   },
   "outputs": [
    {
     "data": {
      "text/html": [
       "<div>\n",
       "<table border=\"1\" class=\"dataframe\">\n",
       "  <thead>\n",
       "    <tr style=\"text-align: right;\">\n",
       "      <th></th>\n",
       "      <th>0</th>\n",
       "      <th>1</th>\n",
       "      <th>2</th>\n",
       "      <th>3</th>\n",
       "      <th>4</th>\n",
       "      <th>new</th>\n",
       "    </tr>\n",
       "  </thead>\n",
       "  <tbody>\n",
       "    <tr>\n",
       "      <th>0</th>\n",
       "      <td>0.044882</td>\n",
       "      <td>1.947019</td>\n",
       "      <td>0.167263</td>\n",
       "      <td>-0.645261</td>\n",
       "      <td>1.325821</td>\n",
       "      <td>16.5</td>\n",
       "    </tr>\n",
       "    <tr>\n",
       "      <th>1</th>\n",
       "      <td>-1.629131</td>\n",
       "      <td>0.762345</td>\n",
       "      <td>-0.412886</td>\n",
       "      <td>-0.813852</td>\n",
       "      <td>1.878055</td>\n",
       "      <td>16.5</td>\n",
       "    </tr>\n",
       "    <tr>\n",
       "      <th>2</th>\n",
       "      <td>-0.722374</td>\n",
       "      <td>0.197613</td>\n",
       "      <td>2.042455</td>\n",
       "      <td>0.093834</td>\n",
       "      <td>-0.837068</td>\n",
       "      <td>16.5</td>\n",
       "    </tr>\n",
       "    <tr>\n",
       "      <th>3</th>\n",
       "      <td>-0.938291</td>\n",
       "      <td>1.616222</td>\n",
       "      <td>-2.017747</td>\n",
       "      <td>0.353953</td>\n",
       "      <td>0.582901</td>\n",
       "      <td>16.5</td>\n",
       "    </tr>\n",
       "    <tr>\n",
       "      <th>4</th>\n",
       "      <td>-0.952369</td>\n",
       "      <td>-0.777576</td>\n",
       "      <td>0.042165</td>\n",
       "      <td>-1.369082</td>\n",
       "      <td>1.768860</td>\n",
       "      <td>16.5</td>\n",
       "    </tr>\n",
       "    <tr>\n",
       "      <th>5</th>\n",
       "      <td>-0.879009</td>\n",
       "      <td>0.320341</td>\n",
       "      <td>-0.761303</td>\n",
       "      <td>1.855261</td>\n",
       "      <td>-0.509548</td>\n",
       "      <td>16.5</td>\n",
       "    </tr>\n",
       "    <tr>\n",
       "      <th>6</th>\n",
       "      <td>1.170580</td>\n",
       "      <td>-0.581491</td>\n",
       "      <td>-0.115374</td>\n",
       "      <td>-0.321679</td>\n",
       "      <td>1.116840</td>\n",
       "      <td>16.5</td>\n",
       "    </tr>\n",
       "    <tr>\n",
       "      <th>7</th>\n",
       "      <td>-1.428550</td>\n",
       "      <td>-0.948327</td>\n",
       "      <td>0.849442</td>\n",
       "      <td>0.774132</td>\n",
       "      <td>-0.388989</td>\n",
       "      <td>16.5</td>\n",
       "    </tr>\n",
       "    <tr>\n",
       "      <th>8</th>\n",
       "      <td>-0.497311</td>\n",
       "      <td>-0.231180</td>\n",
       "      <td>-1.568490</td>\n",
       "      <td>0.431784</td>\n",
       "      <td>-0.047164</td>\n",
       "      <td>16.5</td>\n",
       "    </tr>\n",
       "    <tr>\n",
       "      <th>9</th>\n",
       "      <td>0.457726</td>\n",
       "      <td>0.598834</td>\n",
       "      <td>1.388310</td>\n",
       "      <td>0.333702</td>\n",
       "      <td>-1.770764</td>\n",
       "      <td>16.5</td>\n",
       "    </tr>\n",
       "  </tbody>\n",
       "</table>\n",
       "</div>"
      ],
      "text/plain": [
       "          0         1         2         3         4   new\n",
       "0  0.044882  1.947019  0.167263 -0.645261  1.325821  16.5\n",
       "1 -1.629131  0.762345 -0.412886 -0.813852  1.878055  16.5\n",
       "2 -0.722374  0.197613  2.042455  0.093834 -0.837068  16.5\n",
       "3 -0.938291  1.616222 -2.017747  0.353953  0.582901  16.5\n",
       "4 -0.952369 -0.777576  0.042165 -1.369082  1.768860  16.5\n",
       "5 -0.879009  0.320341 -0.761303  1.855261 -0.509548  16.5\n",
       "6  1.170580 -0.581491 -0.115374 -0.321679  1.116840  16.5\n",
       "7 -1.428550 -0.948327  0.849442  0.774132 -0.388989  16.5\n",
       "8 -0.497311 -0.231180 -1.568490  0.431784 -0.047164  16.5\n",
       "9  0.457726  0.598834  1.388310  0.333702 -1.770764  16.5"
      ]
     },
     "execution_count": 30,
     "metadata": {},
     "output_type": "execute_result"
    }
   ],
   "source": [
    "df2['new'] = 16.5\n",
    "df2"
   ]
  },
  {
   "cell_type": "code",
   "execution_count": 32,
   "metadata": {
    "collapsed": false
   },
   "outputs": [
    {
     "data": {
      "text/html": [
       "<div>\n",
       "<table border=\"1\" class=\"dataframe\">\n",
       "  <thead>\n",
       "    <tr style=\"text-align: right;\">\n",
       "      <th></th>\n",
       "      <th>0</th>\n",
       "      <th>1</th>\n",
       "      <th>2</th>\n",
       "      <th>3</th>\n",
       "      <th>4</th>\n",
       "      <th>new</th>\n",
       "    </tr>\n",
       "  </thead>\n",
       "  <tbody>\n",
       "    <tr>\n",
       "      <th>0</th>\n",
       "      <td>0.044882</td>\n",
       "      <td>1.947019</td>\n",
       "      <td>0.167263</td>\n",
       "      <td>-0.645261</td>\n",
       "      <td>1.325821</td>\n",
       "      <td>0</td>\n",
       "    </tr>\n",
       "    <tr>\n",
       "      <th>1</th>\n",
       "      <td>-1.629131</td>\n",
       "      <td>0.762345</td>\n",
       "      <td>-0.412886</td>\n",
       "      <td>-0.813852</td>\n",
       "      <td>1.878055</td>\n",
       "      <td>1</td>\n",
       "    </tr>\n",
       "    <tr>\n",
       "      <th>2</th>\n",
       "      <td>-0.722374</td>\n",
       "      <td>0.197613</td>\n",
       "      <td>2.042455</td>\n",
       "      <td>0.093834</td>\n",
       "      <td>-0.837068</td>\n",
       "      <td>2</td>\n",
       "    </tr>\n",
       "    <tr>\n",
       "      <th>3</th>\n",
       "      <td>-0.938291</td>\n",
       "      <td>1.616222</td>\n",
       "      <td>-2.017747</td>\n",
       "      <td>0.353953</td>\n",
       "      <td>0.582901</td>\n",
       "      <td>3</td>\n",
       "    </tr>\n",
       "    <tr>\n",
       "      <th>4</th>\n",
       "      <td>-0.952369</td>\n",
       "      <td>-0.777576</td>\n",
       "      <td>0.042165</td>\n",
       "      <td>-1.369082</td>\n",
       "      <td>1.768860</td>\n",
       "      <td>4</td>\n",
       "    </tr>\n",
       "    <tr>\n",
       "      <th>5</th>\n",
       "      <td>-0.879009</td>\n",
       "      <td>0.320341</td>\n",
       "      <td>-0.761303</td>\n",
       "      <td>1.855261</td>\n",
       "      <td>-0.509548</td>\n",
       "      <td>5</td>\n",
       "    </tr>\n",
       "    <tr>\n",
       "      <th>6</th>\n",
       "      <td>1.170580</td>\n",
       "      <td>-0.581491</td>\n",
       "      <td>-0.115374</td>\n",
       "      <td>-0.321679</td>\n",
       "      <td>1.116840</td>\n",
       "      <td>6</td>\n",
       "    </tr>\n",
       "    <tr>\n",
       "      <th>7</th>\n",
       "      <td>-1.428550</td>\n",
       "      <td>-0.948327</td>\n",
       "      <td>0.849442</td>\n",
       "      <td>0.774132</td>\n",
       "      <td>-0.388989</td>\n",
       "      <td>7</td>\n",
       "    </tr>\n",
       "    <tr>\n",
       "      <th>8</th>\n",
       "      <td>-0.497311</td>\n",
       "      <td>-0.231180</td>\n",
       "      <td>-1.568490</td>\n",
       "      <td>0.431784</td>\n",
       "      <td>-0.047164</td>\n",
       "      <td>8</td>\n",
       "    </tr>\n",
       "    <tr>\n",
       "      <th>9</th>\n",
       "      <td>0.457726</td>\n",
       "      <td>0.598834</td>\n",
       "      <td>1.388310</td>\n",
       "      <td>0.333702</td>\n",
       "      <td>-1.770764</td>\n",
       "      <td>9</td>\n",
       "    </tr>\n",
       "  </tbody>\n",
       "</table>\n",
       "</div>"
      ],
      "text/plain": [
       "          0         1         2         3         4  new\n",
       "0  0.044882  1.947019  0.167263 -0.645261  1.325821    0\n",
       "1 -1.629131  0.762345 -0.412886 -0.813852  1.878055    1\n",
       "2 -0.722374  0.197613  2.042455  0.093834 -0.837068    2\n",
       "3 -0.938291  1.616222 -2.017747  0.353953  0.582901    3\n",
       "4 -0.952369 -0.777576  0.042165 -1.369082  1.768860    4\n",
       "5 -0.879009  0.320341 -0.761303  1.855261 -0.509548    5\n",
       "6  1.170580 -0.581491 -0.115374 -0.321679  1.116840    6\n",
       "7 -1.428550 -0.948327  0.849442  0.774132 -0.388989    7\n",
       "8 -0.497311 -0.231180 -1.568490  0.431784 -0.047164    8\n",
       "9  0.457726  0.598834  1.388310  0.333702 -1.770764    9"
      ]
     },
     "execution_count": 32,
     "metadata": {},
     "output_type": "execute_result"
    }
   ],
   "source": [
    "df2['new'] = np.arange(10)\n",
    "df2"
   ]
  },
  {
   "cell_type": "code",
   "execution_count": null,
   "metadata": {
    "collapsed": true
   },
   "outputs": [],
   "source": [
    ""
   ]
  },
  {
   "cell_type": "code",
   "execution_count": null,
   "metadata": {
    "collapsed": true
   },
   "outputs": [],
   "source": [
    ""
   ]
  },
  {
   "cell_type": "code",
   "execution_count": null,
   "metadata": {
    "collapsed": true
   },
   "outputs": [],
   "source": [
    ""
   ]
  },
  {
   "cell_type": "code",
   "execution_count": null,
   "metadata": {
    "collapsed": true
   },
   "outputs": [],
   "source": [
    ""
   ]
  }
 ],
 "metadata": {
  "kernelspec": {
   "display_name": "Python 2",
   "language": "python",
   "name": "python2"
  },
  "language_info": {
   "codemirror_mode": {
    "name": "ipython",
    "version": 2.0
   },
   "file_extension": ".py",
   "mimetype": "text/x-python",
   "name": "python",
   "nbconvert_exporter": "python",
   "pygments_lexer": "ipython2",
   "version": "2.7.13"
  }
 },
 "nbformat": 4,
 "nbformat_minor": 0
}